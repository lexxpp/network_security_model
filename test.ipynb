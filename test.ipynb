{
 "cells": [
  {
   "cell_type": "markdown",
   "id": "dc0902e5",
   "metadata": {
    "toc": true
   },
   "source": [
    "<h1>Table of Contents<span class=\"tocSkip\"></span></h1>\n",
    "<div class=\"toc\"><ul class=\"toc-item\"></ul></div>"
   ]
  },
  {
   "cell_type": "code",
   "execution_count": 22,
   "id": "4e5a60ed",
   "metadata": {
    "scrolled": true
   },
   "outputs": [
    {
     "name": "stdout",
     "output_type": "stream",
     "text": [
      "{'predictions': [['BENIGN']]}\n"
     ]
    }
   ],
   "source": [
    "import requests\n",
    "\n",
    "\n",
    "test_applications =  {\n",
    "        \"destination port\": 443.0,\n",
    "        \"flow duration\": 272782.0,\n",
    "        \"total fwd packets\": 6.0,\n",
    "        \"total backward packets\": 6.0,\n",
    "        \"total length of fwd packets\": 356.0,\n",
    "        \"total length of bwd packets\": 3782.0,\n",
    "        \"fwd packet length max\": 212.0,\n",
    "        \"fwd packet length min\": 0.0,\n",
    "        \"fwd packet length mean\": 59.34,\n",
    "        \"fwd packet length std\": 89.25,\n",
    "        \"bwd packet length max\": 1460.0,\n",
    "        \"bwd packet length min\": 0.0,\n",
    "        \"bwd packet length mean\": 630.5,\n",
    "        \"bwd packet length std\": 677.0,\n",
    "        \"flow bytes/s\": 15169.6226290591,\n",
    "        \"flow packets/s\": 43.9911724381,\n",
    "        \"flow iat mean\": 24798.363,\n",
    "        \"flow iat std\": 39217.523,\n",
    "        \"flow iat max\": 86511.0,\n",
    "        \"flow iat min\": 1.0,\n",
    "        \"fwd iat total\": 272782.0,\n",
    "        \"fwd iat mean\": 54556.4,\n",
    "        \"fwd iat std\": 45861.113,\n",
    "        \"fwd iat max\": 91734.0,\n",
    "        \"fwd iat min\": 680.0,\n",
    "        \"bwd iat total\": 187247.0,\n",
    "        \"bwd iat mean\": 37449.4,\n",
    "        \"bwd iat std\": 48543.434,\n",
    "        \"bwd iat max\": 94776.0,\n",
    "        \"bwd iat min\": 154.0,\n",
    "        \"fwd psh flags\": 0.0,\n",
    "        \"fwd urg flags\": 0.0,\n",
    "        \"fwd header length\": 132.0,\n",
    "        \"bwd header length\": 132.0,\n",
    "        \"fwd packets/s\": 21.995586,\n",
    "        \"bwd packets/s\": 21.995586,\n",
    "        \"min packet length\": 0.0,\n",
    "        \"max packet length\": 1460.0,\n",
    "        \"packet length mean\": 318.2,\n",
    "        \"packet length std\": 534.0,\n",
    "        \"packet length variance\": 285067.22,\n",
    "        \"fin flag count\": 0.0,\n",
    "        \"syn flag count\": 0.0,\n",
    "        \"rst flag count\": 0.0,\n",
    "        \"psh flag count\": 1.0,\n",
    "        \"ack flag count\": 0.0,\n",
    "        \"urg flag count\": 0.0,\n",
    "        \"cwe flag count\": 0.0,\n",
    "        \"ece flag count\": 0.0,\n",
    "        \"down/up ratio\": 1.0,\n",
    "        \"average packet size\": 344.8,\n",
    "        \"avg fwd segment size\": 59.34,\n",
    "        \"avg bwd segment size\": 630.5,\n",
    "        \"fwd header length.1\": 132.0,\n",
    "        \"subflow fwd packets\": 6.0,\n",
    "        \"subflow fwd bytes\": 356.0,\n",
    "        \"subflow bwd packets\": 6.0,\n",
    "        \"subflow bwd bytes\": 3782.0,\n",
    "        \"init_win_bytes_forward\": 8192.0,\n",
    "        \"init_win_bytes_backward\": 60.0,\n",
    "        \"act_data_pkt_fwd\": 5.0,\n",
    "        \"min_seg_size_forward\": 20.0,\n",
    "        \"active mean\": 0.00,\n",
    "        \"active std\": 0.0,\n",
    "        \"active max\": 0.0,\n",
    "        \"active min\": 0.0,\n",
    "        \"idle mean\": 0.0,\n",
    "        \"idle std\": 0.0,\n",
    "        \"idle max\": 0.0,\n",
    "        \"idle min\": 0.0\n",
    "    }\n",
    "\n",
    "for key, value in test_applications.items():\n",
    "    test_applications[key] = float(value)\n",
    "\n",
    "url = \"http://192.168.88.215:8989/predict\"\n",
    "\n",
    "# Send request\n",
    "resp = requests.post(url, json=test_applications)\n",
    "\n",
    "# Print result\n",
    "print(resp.json())"
   ]
  },
  {
   "cell_type": "code",
   "execution_count": null,
   "id": "abb4f3f6",
   "metadata": {},
   "outputs": [],
   "source": []
  }
 ],
 "metadata": {
  "kernelspec": {
   "display_name": "Python 3 (ipykernel)",
   "language": "python",
   "name": "python3"
  },
  "language_info": {
   "codemirror_mode": {
    "name": "ipython",
    "version": 3
   },
   "file_extension": ".py",
   "mimetype": "text/x-python",
   "name": "python",
   "nbconvert_exporter": "python",
   "pygments_lexer": "ipython3",
   "version": "3.9.12"
  },
  "toc": {
   "base_numbering": 1,
   "nav_menu": {},
   "number_sections": true,
   "sideBar": true,
   "skip_h1_title": true,
   "title_cell": "Table of Contents",
   "title_sidebar": "Contents",
   "toc_cell": true,
   "toc_position": {},
   "toc_section_display": true,
   "toc_window_display": false
  }
 },
 "nbformat": 4,
 "nbformat_minor": 5
}
